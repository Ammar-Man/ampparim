{
 "cells": [
  {
   "cell_type": "code",
   "execution_count": null,
   "metadata": {},
   "outputs": [],
   "source": [
    "%pip install flask flask-cors\n",
    "# %pip install waitress"
   ]
  },
  {
   "cell_type": "code",
   "execution_count": null,
   "metadata": {},
   "outputs": [],
   "source": [
    "from queue import Queue\n",
    "from flask import Flask, Response, render_template, request,  jsonify\n",
    "from flask_cors import CORS\n",
    "import requests\n",
    "import socket"
   ]
  },
  {
   "cell_type": "code",
   "execution_count": 3,
   "metadata": {},
   "outputs": [],
   "source": [
    "# run RunListenToVoice to make robot voice chat\n",
    "from RunListenToVoice import listen_to_voice, get_askRobot, stopCall"
   ]
  },
  {
   "cell_type": "code",
   "execution_count": 4,
   "metadata": {},
   "outputs": [],
   "source": [
    "def send_face_data(data,post_name):\n",
    "    print(\"get data\",data)\n",
    "    try:\n",
    "        response = requests.get(f'http://localhost:5000/api/post?face={data}',timeout=0.0000000001)\n",
    "        # response = requests.get('http://localhost:5000/api/post?face={}'.format(face_data))\n",
    "        print(\"def:\",post_name,data)\n",
    "        return response\n",
    "    except requests.exceptions.ReadTimeout: \n",
    "        return None\n",
    "    except requests.RequestException as e:\n",
    "        print(f\"Error sending face data: {e}\")\n",
    "        return None\n",
    "\n",
    "def text_to_speech(data):\n",
    "    try:\n",
    "        get_askRobot(data)\n",
    "    except:\n",
    "        return None\n",
    "    \n",
    "def runCalling(input):\n",
    "\n",
    "    if input == \"off\":\n",
    "        stopCall()\n",
    "        print(input)\n",
    "        return None\n",
    "    try:\n",
    "        listen_to_voice(input)\n",
    "    except:\n",
    "        return None\n",
    " "
   ]
  },
  {
   "cell_type": "code",
   "execution_count": 5,
   "metadata": {},
   "outputs": [],
   "source": [
    "# listen_to_voice()"
   ]
  },
  {
   "cell_type": "code",
   "execution_count": 6,
   "metadata": {},
   "outputs": [
    {
     "name": "stdout",
     "output_type": "stream",
     "text": [
      " * Serving Flask app '__main__'\n",
      " * Debug mode: off\n"
     ]
    },
    {
     "name": "stderr",
     "output_type": "stream",
     "text": [
      "WARNING: This is a development server. Do not use it in a production deployment. Use a production WSGI server instead.\n",
      " * Running on all addresses (0.0.0.0)\n",
      " * Running on http://127.0.0.1:5100\n",
      " * Running on http://192.168.32.111:5100\n",
      "Press CTRL+C to quit\n",
      "192.168.32.111 - - [28/Dec/2023 19:08:53] \"GET / HTTP/1.1\" 200 -\n"
     ]
    },
    {
     "name": "stdout",
     "output_type": "stream",
     "text": [
      "test_1 192.168.32.111:5100\n",
      "Listening...\n",
      "Sorry, could not understand audio.\n",
      "Listening...\n"
     ]
    },
    {
     "name": "stderr",
     "output_type": "stream",
     "text": [
      "192.168.32.111 - - [28/Dec/2023 19:09:22] \"GET /api/post?call=on HTTP/1.1\" 200 -\n",
      "192.168.32.111 - - [28/Dec/2023 19:09:22] \"GET /api/post?call=off HTTP/1.1\" 200 -\n",
      "192.168.32.111 - - [28/Dec/2023 19:09:22] \"GET /api/post?call=off HTTP/1.1\" 200 -\n",
      "192.168.32.111 - - [28/Dec/2023 19:09:22] \"GET /api/post?call=off HTTP/1.1\" 200 -\n",
      "192.168.32.111 - - [28/Dec/2023 19:09:22] \"GET /api/post?call=off HTTP/1.1\" 200 -\n",
      "192.168.32.111 - - [28/Dec/2023 19:09:22] \"GET /api/post?call=off HTTP/1.1\" 200 -\n",
      "192.168.32.111 - - [28/Dec/2023 19:09:22] \"GET /api/post?call=off HTTP/1.1\" 200 -\n",
      "192.168.32.111 - - [28/Dec/2023 19:09:22] \"GET /api/post?call=off HTTP/1.1\" 200 -\n",
      "192.168.32.111 - - [28/Dec/2023 19:09:22] \"GET /api/post?call=off HTTP/1.1\" 200 -\n",
      "192.168.32.111 - - [28/Dec/2023 19:09:22] \"GET /api/post?call=off HTTP/1.1\" 200 -\n",
      "192.168.32.111 - - [28/Dec/2023 19:09:22] \"GET /api/post?call=off HTTP/1.1\" 200 -\n"
     ]
    },
    {
     "name": "stdout",
     "output_type": "stream",
     "text": [
      "Sorry, could not understand audio.\n",
      "test_1 192.168.32.111:5100\n",
      "off\n",
      "test_1 192.168.32.111:5100\n",
      "off\n",
      "test_1 192.168.32.111:5100\n",
      "off\n",
      "test_1 192.168.32.111:5100\n",
      "off\n",
      "test_1 192.168.32.111:5100\n",
      "off\n",
      "test_1 192.168.32.111:5100\n",
      "off\n",
      "test_1 192.168.32.111:5100\n",
      "off\n",
      "test_1 192.168.32.111:5100\n",
      "off\n",
      "test_1 192.168.32.111:5100\n",
      "off\n",
      "test_1 192.168.32.111:5100\n",
      "off\n",
      "test_1 192.168.32.111:5100\n",
      "Listening...\n",
      "off\n",
      "You said: call me the listener shut off\n"
     ]
    },
    {
     "name": "stderr",
     "output_type": "stream",
     "text": [
      "192.168.32.111 - - [28/Dec/2023 19:09:53] \"GET /api/post?call=on HTTP/1.1\" 200 -\n",
      "192.168.32.111 - - [28/Dec/2023 19:09:53] \"GET /api/post?call=off HTTP/1.1\" 200 -\n"
     ]
    },
    {
     "name": "stdout",
     "output_type": "stream",
     "text": [
      "test_1 192.168.32.111:5100\n",
      "off\n"
     ]
    },
    {
     "name": "stderr",
     "output_type": "stream",
     "text": [
      "192.168.32.111 - - [28/Dec/2023 19:27:38] \"GET / HTTP/1.1\" 200 -\n",
      "192.168.32.111 - - [28/Dec/2023 19:28:09] \"GET /api/post?call=off HTTP/1.1\" 200 -\n"
     ]
    },
    {
     "name": "stdout",
     "output_type": "stream",
     "text": [
      "test_1 192.168.32.111:5100\n",
      "off\n"
     ]
    }
   ],
   "source": [
    "# app = Flask(__name__)\n",
    "app = Flask(__name__)\n",
    "app.debug = False\n",
    "CORS(app)\n",
    "queue = Queue()\n",
    "\n",
    "@app.route(\"/\")\n",
    "def frontpage():\n",
    "    return render_template(\"index.html\",ip =request.environ.get(\"HTTP_HOST\") ,userinput_server =\"testone\")\n",
    "\n",
    "@app.route(\"/api/post\", methods=[\"GET\"])\n",
    "def api_parse_sentence():\n",
    "    face_data = request.args.get(\"face\")\n",
    "    touch_data = request.args.get(\"touch\")\n",
    "    call_data = request.args.get(\"call\")\n",
    "    textToSpeech_data= request.args.get(\"text\")\n",
    "    print(\"test_1\",request.environ.get(\"HTTP_HOST\"))\n",
    "    \n",
    "    if face_data:\n",
    "        queue.put(face_data)\n",
    "        send_face_data(face_data,\"face\")\n",
    "        return \"Face OK\"\n",
    "    elif touch_data:\n",
    "        queue.put(touch_data)\n",
    "        send_face_data(touch_data,\"touch\")\n",
    "        return \"Touch OK\"\n",
    "    elif call_data:\n",
    "        queue.put(call_data)\n",
    "        runCalling(call_data)\n",
    "        return \"call ok\"\n",
    "    elif textToSpeech_data:\n",
    "        queue.put(textToSpeech_data)\n",
    "        text_to_speech(textToSpeech_data)\n",
    "        return \"TTS OK\"\n",
    "    else:\n",
    "        return \"Invalid request\"\n",
    "\n",
    "if __name__ == '__main__':\n",
    "    # app.run(threaded=True, port=5100)\n",
    "    app.run(threaded=False,host='0.0.0.0', port=3130)\n",
    "    \n",
    "    # from waitress import serve\n",
    "    # serve(app, host='0.0.0.0', port=5100) \n",
    "\n"
   ]
  }
 ],
 "metadata": {
  "kernelspec": {
   "display_name": "Python 3",
   "language": "python",
   "name": "python3"
  },
  "language_info": {
   "codemirror_mode": {
    "name": "ipython",
    "version": 3
   },
   "file_extension": ".py",
   "mimetype": "text/x-python",
   "name": "python",
   "nbconvert_exporter": "python",
   "pygments_lexer": "ipython3",
   "version": "3.10.0"
  }
 },
 "nbformat": 4,
 "nbformat_minor": 2
}
