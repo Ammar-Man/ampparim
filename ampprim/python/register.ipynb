{
 "cells": [
  {
   "cell_type": "code",
   "execution_count": 1,
   "metadata": {},
   "outputs": [
    {
     "name": "stdout",
     "output_type": "stream",
     "text": [
      "Note: you may need to restart the kernel to use updated packages.Requirement already satisfied: pandas in c:\\users\\admin\\appdata\\local\\programs\\python\\python310\\lib\\site-packages (1.5.2)\n",
      "Requirement already satisfied: openpyxl in c:\\users\\admin\\appdata\\local\\programs\\python\\python310\\lib\\site-packages (3.1.2)\n",
      "Requirement already satisfied: python-dateutil>=2.8.1 in c:\\users\\admin\\appdata\\local\\programs\\python\\python310\\lib\\site-packages (from pandas) (2.8.2)\n",
      "Requirement already satisfied: pytz>=2020.1 in c:\\users\\admin\\appdata\\local\\programs\\python\\python310\\lib\\site-packages (from pandas) (2022.6)\n",
      "Requirement already satisfied: numpy>=1.21.0 in c:\\users\\admin\\appdata\\local\\programs\\python\\python310\\lib\\site-packages (from pandas) (1.23.5)\n",
      "Requirement already satisfied: et-xmlfile in c:\\users\\admin\\appdata\\local\\programs\\python\\python310\\lib\\site-packages (from openpyxl) (1.1.0)\n",
      "Requirement already satisfied: six>=1.5 in c:\\users\\admin\\appdata\\roaming\\python\\python310\\site-packages (from python-dateutil>=2.8.1->pandas) (1.16.0)\n",
      "\n"
     ]
    },
    {
     "name": "stderr",
     "output_type": "stream",
     "text": [
      "\n",
      "[notice] A new release of pip is available: 23.3.1 -> 23.3.2\n",
      "[notice] To update, run: python.exe -m pip install --upgrade pip\n"
     ]
    }
   ],
   "source": [
    "pip install pandas openpyxl\n"
   ]
  },
  {
   "cell_type": "code",
   "execution_count": 2,
   "metadata": {},
   "outputs": [],
   "source": [
    "# import\n",
    "import pandas as pd\n",
    "from datetime import datetime\n",
    "from flask import Flask, render_template, request, redirect"
   ]
  },
  {
   "cell_type": "code",
   "execution_count": 3,
   "metadata": {},
   "outputs": [],
   "source": [
    "\n",
    "\n",
    "def register_new_item(file_path, new_id, name, size, date, address, custom, condition):\n",
    "    # Read existing data from the Excel file\n",
    "    try:\n",
    "        df = pd.read_excel(file_path)\n",
    "    except FileNotFoundError:\n",
    "        # Create a new DataFrame if the file doesn't exist\n",
    "        df = pd.DataFrame(columns=[\"ID\", \"Name\", \"Size\", \"Date\", \"Address\", \"Custom\", \"Condition\"])\n",
    "\n",
    "    # Check if the ID already exists\n",
    "    if new_id in df[\"ID\"].values:\n",
    "        print(f\"Item with ID {new_id} already exists.\")\n",
    "        return\n",
    "\n",
    "    # Add the new item to the DataFrame\n",
    "    new_item = {\"ID\": new_id, \"Name\": name, \"Size\": size, \"Date\": date, \"Address\": address, \"Custom\": custom, \"Condition\": condition}\n",
    "    df = df.append(new_item, ignore_index=True)\n",
    "\n",
    "    # Write the updated DataFrame to the Excel file\n",
    "    df.to_excel(file_path, index=False)\n",
    "    print(f\"Item with ID {new_id} has been successfully registered.\")\n",
    "\n",
    "def check_item_by_id(file_path, check_id):\n",
    "    # Read data from the Excel file\n",
    "    try:\n",
    "        df = pd.read_excel(file_path)\n",
    "    except FileNotFoundError:\n",
    "        print(\"File not found. No items registered yet.\")\n",
    "        return\n",
    "\n",
    "    # Check if the ID exists\n",
    "    if check_id in df[\"ID\"].values:\n",
    "        item_data = df[df[\"ID\"] == check_id].iloc[0]\n",
    "        print(f\"Item with ID {check_id} found:\")\n",
    "        print(item_data)\n",
    "    else:\n",
    "        print(f\"No item found with ID {check_id}.\")\n",
    "\n",
    "def get_all_items(file_path):\n",
    "    try:\n",
    "        df = pd.read_excel(file_path, usecols=[\"ID\", \"Name\", \"Custom\"])\n",
    "        return df.to_dict(orient='records')\n",
    "    except FileNotFoundError:\n",
    "        return []\n",
    "# Example usage:\n",
    "    \n",
    "def update_item(file_path, item_id, name, size, address, custom, condition):\n",
    "    try:\n",
    "        df = pd.read_excel(file_path)\n",
    "\n",
    "        # Find the row with the matching ID\n",
    "        index_to_update = df.index[df['ID'] == item_id].tolist()\n",
    "\n",
    "        if not index_to_update:\n",
    "            return False  # Item not found\n",
    "\n",
    "        # Update the values\n",
    "        df.loc[index_to_update, 'Name'] = name\n",
    "        df.loc[index_to_update, 'Size'] = size\n",
    "        df.loc[index_to_update, 'Address'] = address\n",
    "        df.loc[index_to_update, 'Custom'] = custom\n",
    "        df.loc[index_to_update, 'Condition'] = condition\n",
    "\n",
    "        # Save the updated DataFrame to the Excel file\n",
    "        df.to_excel(file_path, index=False)\n",
    "        return True\n",
    "    except FileNotFoundError:\n",
    "        return False\n",
    "\n",
    "\n",
    "def get_item_info(file_path, item_id):\n",
    "    try:\n",
    "        df = pd.read_excel(file_path)\n",
    "        item_info = df[df['ID'] == item_id].to_dict(orient='records')[0]\n",
    "        return item_info\n",
    "    except FileNotFoundError:\n",
    "        return None"
   ]
  },
  {
   "cell_type": "code",
   "execution_count": 4,
   "metadata": {},
   "outputs": [],
   "source": [
    "file_path = \"items_registry.xlsx\""
   ]
  },
  {
   "cell_type": "code",
   "execution_count": 5,
   "metadata": {},
   "outputs": [
    {
     "data": {
      "text/plain": [
       "[{'ID': 1, 'Name': 'Bike', 'Custom': 'Custom Info'},\n",
       " {'ID': 3, 'Name': 'helo', 'Custom': 'bosse mobile pay'},\n",
       " {'ID': 44, 'Name': 'Ammar', 'Custom': 'ammar'},\n",
       " {'ID': 5, 'Name': 'Bike', 'Custom': 'mariam'}]"
      ]
     },
     "execution_count": 5,
     "metadata": {},
     "output_type": "execute_result"
    }
   ],
   "source": [
    "get_all_items(file_path)\n",
    "# check_item_by_id(file_path, 44)\n",
    "# update_item(file_path, 44, \"Ammar\", \"28\", \"oslo\", \"ammar\", \"condition\")\n",
    "# register_new_item(file_path, 44, \"Bike\", \"Large\", datetime.now(), \"123 Main St\", \"Ammar\", \"Good Condition\")"
   ]
  },
  {
   "cell_type": "code",
   "execution_count": 6,
   "metadata": {},
   "outputs": [
    {
     "name": "stdout",
     "output_type": "stream",
     "text": [
      "Formatted Date: 2023-12-29 02:08:16\n"
     ]
    }
   ],
   "source": [
    "from datetime import datetime\n",
    "\n",
    "# Get the current date and time\n",
    "current_datetime = datetime.now()\n",
    "\n",
    "# Format the date and time in a user-friendly way\n",
    "formatted_date = current_datetime.strftime(\"%Y-%m-%d %H:%M:%S\")\n",
    "\n",
    "# Print the formatted date\n",
    "print(f\"Formatted Date: {formatted_date}\")"
   ]
  },
  {
   "cell_type": "code",
   "execution_count": 7,
   "metadata": {},
   "outputs": [],
   "source": [
    "# from flask import Flask, render_template, request, redirect, url_for\n",
    "# import pandas as pd\n",
    "# from datetime import datetime\n",
    "\n",
    "# app = Flask(__name__)\n",
    "\n",
    "# # ... (previous code)\n",
    "# @app.route('/')\n",
    "# def index():\n",
    "#     return render_template('index.html')\n",
    "\n",
    "# @app.route('/add_item', methods=['POST'])\n",
    "# def add_item():\n",
    "#     file_path = \"items_registry.xlsx\"\n",
    "#     new_id = request.form['id']\n",
    "#     name = request.form['name']\n",
    "#     size = request.form['size']\n",
    "#     date = datetime.now().strftime(\"%Y-%m-%d %H:%M:%S\")\n",
    "#     address = request.form['address']\n",
    "#     custom = request.form['custom']\n",
    "#     condition = request.form['condition']\n",
    "\n",
    "#     if register_new_item(file_path, new_id, name, size, date, address, custom, condition):\n",
    "#         return redirect(url_for('index'))\n",
    "#     else:\n",
    "#         return \"Item with this ID already exists!\"\n",
    "\n",
    "# @app.route('/add_item', methods=['POST'])\n",
    "# def add_item():\n",
    "#     file_path = \"items_registry.xlsx\"\n",
    "#     new_id = request.form['id']\n",
    "#     name = request.form['name']\n",
    "#     size = request.form['size']\n",
    "#     date = datetime.now().strftime(\"%Y-%m-%d %H:%M:%S\")\n",
    "#     address = request.form['address']\n",
    "#     custom = request.form['custom']\n",
    "#     condition = request.form['condition']\n",
    "\n",
    "#     if register_new_item(file_path, new_id, name, size, date, address, custom, condition):\n",
    "#         return redirect(url_for('index'))\n",
    "#     else:\n",
    "#         return \"Item with this ID already exists!\"\n",
    "    \n",
    "#     # ... (other routes)\n",
    "# @app.route('/item/<int:item_id>')\n",
    "# def item(item_id):\n",
    "#     file_path = \"items_registry.xlsx\"\n",
    "#     item_info = get_item_info(file_path, item_id)\n",
    "\n",
    "#     if item_info:\n",
    "#         return render_template('item.html', item_info=item_info)\n",
    "#     else:\n",
    "#         return \"Item not found!\"\n",
    "\n",
    "\n",
    "\n",
    "# @app.route('/edit_item/<int:item_id>', methods=['GET', 'POST'])\n",
    "# def edit_item(item_id):\n",
    "#     file_path = \"items_registry.xlsx\"\n",
    "#     item_info = get_item_info(file_path, item_id)\n",
    "\n",
    "#     if request.method == 'POST':\n",
    "#         name = request.form['name']\n",
    "#         size = request.form['size']\n",
    "#         address = request.form['address']\n",
    "#         custom = request.form['custom']\n",
    "#         condition = request.form['condition']\n",
    "\n",
    "#         if update_item(file_path, item_id, name, size, address, custom, condition):\n",
    "#             return redirect(url_for('index'))\n",
    "#         else:\n",
    "#             return \"Item not found!\"\n",
    "\n",
    "#     return render_template('edit_item.html', item_info=item_info)\n",
    "\n",
    "\n",
    "\n",
    "# if __name__ == '__main__':\n",
    "#     app.run(debug=False)"
   ]
  },
  {
   "cell_type": "code",
   "execution_count": 8,
   "metadata": {},
   "outputs": [
    {
     "name": "stdout",
     "output_type": "stream",
     "text": [
      " * Serving Flask app '__main__'\n",
      " * Debug mode: off\n"
     ]
    },
    {
     "name": "stderr",
     "output_type": "stream",
     "text": [
      "WARNING: This is a development server. Do not use it in a production deployment. Use a production WSGI server instead.\n",
      " * Running on all addresses (0.0.0.0)\n",
      " * Running on http://127.0.0.1:2000\n",
      " * Running on http://192.168.32.111:2000\n",
      "Press CTRL+C to quit\n"
     ]
    },
    {
     "name": "stderr",
     "output_type": "stream",
     "text": [
      "192.168.32.111 - - [29/Dec/2023 02:08:21] \"GET / HTTP/1.1\" 200 -\n",
      "192.168.32.111 - - [29/Dec/2023 02:08:30] \"GET / HTTP/1.1\" 200 -\n",
      "192.168.32.111 - - [29/Dec/2023 02:08:54] \"GET / HTTP/1.1\" 200 -\n",
      "192.168.32.171 - - [29/Dec/2023 02:08:54] \"GET /item/1 HTTP/1.1\" 200 -\n",
      "192.168.32.171 - - [29/Dec/2023 02:08:54] \"GET /item/1 HTTP/1.1\" 200 -\n",
      "192.168.32.111 - - [29/Dec/2023 02:09:39] \"GET /all_items HTTP/1.1\" 200 -\n"
     ]
    },
    {
     "name": "stdout",
     "output_type": "stream",
     "text": [
      "items [{'ID': 1, 'Name': 'Bike', 'Custom': 'Custom Info'}, {'ID': 3, 'Name': 'helo', 'Custom': 'bosse mobile pay'}, {'ID': 44, 'Name': 'Ammar', 'Custom': 'ammar'}, {'ID': 5, 'Name': 'Bike', 'Custom': 'mariam'}]\n"
     ]
    },
    {
     "name": "stderr",
     "output_type": "stream",
     "text": [
      "192.168.32.111 - - [29/Dec/2023 02:10:23] \"GET /item/5 HTTP/1.1\" 200 -\n",
      "192.168.32.171 - - [29/Dec/2023 02:13:13] \"GET /item/1 HTTP/1.1\" 200 -\n",
      "192.168.32.171 - - [29/Dec/2023 02:13:13] \"GET /item/44 HTTP/1.1\" 200 -\n",
      "192.168.32.171 - - [29/Dec/2023 02:13:13] \"GET /item/44 HTTP/1.1\" 200 -\n",
      "192.168.32.171 - - [29/Dec/2023 02:13:13] \"GET /item/1 HTTP/1.1\" 200 -\n",
      "192.168.32.171 - - [29/Dec/2023 02:13:13] \"GET /item/1 HTTP/1.1\" 200 -\n",
      "192.168.32.171 - - [29/Dec/2023 02:13:13] \"GET /item/1 HTTP/1.1\" 200 -\n",
      "192.168.32.171 - - [29/Dec/2023 02:13:13] \"GET /item/1 HTTP/1.1\" 200 -\n",
      "192.168.32.111 - - [29/Dec/2023 02:13:13] \"GET / HTTP/1.1\" 200 -\n",
      "192.168.32.111 - - [29/Dec/2023 02:13:19] \"GET / HTTP/1.1\" 200 -\n",
      "192.168.32.171 - - [29/Dec/2023 02:13:19] \"GET /item/1 HTTP/1.1\" 200 -\n",
      "192.168.32.111 - - [29/Dec/2023 02:13:29] \"GET / HTTP/1.1\" 200 -\n",
      "192.168.32.111 - - [29/Dec/2023 02:13:34] \"GET /item/5 HTTP/1.1\" 200 -\n",
      "192.168.32.171 - - [29/Dec/2023 02:26:00] \"GET /item/1 HTTP/1.1\" 200 -\n",
      "192.168.32.171 - - [29/Dec/2023 02:26:00] \"GET /item/1 HTTP/1.1\" 200 -\n",
      "192.168.32.171 - - [29/Dec/2023 02:26:00] \"GET /item/1 HTTP/1.1\" 200 -\n",
      "192.168.32.171 - - [29/Dec/2023 02:26:00] \"GET /item/1 HTTP/1.1\" 200 -\n",
      "192.168.32.171 - - [29/Dec/2023 02:26:00] \"GET /item/1 HTTP/1.1\" 200 -\n",
      "192.168.32.171 - - [29/Dec/2023 02:26:00] \"GET /item/1 HTTP/1.1\" 200 -\n",
      "192.168.32.171 - - [29/Dec/2023 02:26:00] \"GET / HTTP/1.1\" 200 -\n",
      "192.168.32.171 - - [29/Dec/2023 02:26:00] \"GET /all HTTP/1.1\" 404 -\n",
      "192.168.32.111 - - [29/Dec/2023 02:26:00] \"GET /item/5 HTTP/1.1\" 200 -\n",
      "192.168.32.111 - - [29/Dec/2023 02:26:04] \"GET / HTTP/1.1\" 200 -\n"
     ]
    }
   ],
   "source": [
    "from flask import Flask, render_template, request\n",
    "\n",
    "app = Flask(__name__)\n",
    "\n",
    "# Define the route for the index page\n",
    "@app.route('/')\n",
    "def index():\n",
    "    # Call the function to get all items\n",
    "    items = get_all_items(\"your_file_path.xlsx\")\n",
    "    return render_template('index.html', items=items)\n",
    "\n",
    "# Define the route for registering a new item\n",
    "@app.route('/register_new_item', methods=['POST'])\n",
    "def register_new_item():\n",
    "    if request.method == 'POST':\n",
    "        # Get data from the form\n",
    "        new_id = int(request.form['new_id'])\n",
    "        name = request.form['name']\n",
    "        size = request.form['size']\n",
    "        date = request.form['date']\n",
    "        address = request.form['address']\n",
    "        custom = request.form['custom']\n",
    "        condition = request.form['condition']\n",
    "\n",
    "        # Call the function to register a new item\n",
    "        register_new_item(\"your_file_path.xlsx\", new_id, name, size, date, address, custom, condition)\n",
    "\n",
    "        # Redirect back to the index page\n",
    "        return redirect('/')\n",
    "    else:\n",
    "        return \"Method Not Allowed\"\n",
    "\n",
    "# Define the route for checking an item by ID\n",
    "@app.route('/all_items')\n",
    "def all_items():\n",
    "    # Call the function to get all items\n",
    "    file_path = \"items_registry.xlsx\"\n",
    "    items = get_all_items(file_path)\n",
    "    print(\"items\",items)\n",
    "    return render_template('all_items.html', items=items)\n",
    "\n",
    "@app.route('/item/<int:item_id>')\n",
    "def item(item_id):\n",
    "    file_path = \"items_registry.xlsx\"\n",
    "    file_path = \"items_registry.xlsx\"\n",
    "    item_info = get_item_info(file_path, item_id)\n",
    "\n",
    "    if item_info:\n",
    "        return render_template('item.html', item_info=item_info)\n",
    "    else:\n",
    "        return \"Item not found!\"\n",
    "\n",
    "# Define the route for updating an item\n",
    "@app.route('/update_item/<int:item_id>', methods=['POST'])\n",
    "def update_item(item_id):\n",
    "    if request.method == 'POST':\n",
    "        # Get data from the form\n",
    "        name = request.form['name']\n",
    "        size = request.form['size']\n",
    "        address = request.form['address']\n",
    "        custom = request.form['custom']\n",
    "        condition = request.form['condition']\n",
    "\n",
    "        # Call the function to update an item\n",
    "        success = update_item(\"your_file_path.xlsx\", item_id, name, size, address, custom, condition)\n",
    "\n",
    "        # Redirect back to the index page\n",
    "        return redirect('/')\n",
    "    else:\n",
    "        return \"Method Not Allowed\"\n",
    "\n",
    "if __name__ == '__main__':\n",
    "    # app.run(debug=False)\n",
    "    app.run(threaded=False,host='0.0.0.0', port=2000)"
   ]
  }
 ],
 "metadata": {
  "kernelspec": {
   "display_name": "Python 3",
   "language": "python",
   "name": "python3"
  },
  "language_info": {
   "codemirror_mode": {
    "name": "ipython",
    "version": 3
   },
   "file_extension": ".py",
   "mimetype": "text/x-python",
   "name": "python",
   "nbconvert_exporter": "python",
   "pygments_lexer": "ipython3",
   "version": "3.10.0"
  }
 },
 "nbformat": 4,
 "nbformat_minor": 2
}
